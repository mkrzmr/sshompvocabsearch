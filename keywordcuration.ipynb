{
 "cells": [
  {
   "cell_type": "markdown",
   "id": "a0215dcc-2c2c-47ce-9c60-51ba3f10b263",
   "metadata": {},
   "source": [
    "## Tool to clean the MP keywords where possible"
   ]
  },
  {
   "cell_type": "code",
   "execution_count": 1,
   "id": "e531f61e-1c3b-43c4-85ab-dc468f178e17",
   "metadata": {},
   "outputs": [],
   "source": [
    "#imports\n",
    "import pandas as pd #to manage dataframes\n",
    "from spellchecker import SpellChecker\n",
    "import re\n",
    "import requests\n",
    "import json\n",
    "from IPython.display import JSON"
   ]
  },
  {
   "cell_type": "code",
   "execution_count": 2,
   "id": "d276d4f8-c4ee-4d56-95f4-487ea450c472",
   "metadata": {},
   "outputs": [
    {
     "data": {
      "text/html": [
       "<div>\n",
       "<style scoped>\n",
       "    .dataframe tbody tr th:only-of-type {\n",
       "        vertical-align: middle;\n",
       "    }\n",
       "\n",
       "    .dataframe tbody tr th {\n",
       "        vertical-align: top;\n",
       "    }\n",
       "\n",
       "    .dataframe thead th {\n",
       "        text-align: right;\n",
       "    }\n",
       "</style>\n",
       "<table border=\"1\" class=\"dataframe\">\n",
       "  <thead>\n",
       "    <tr style=\"text-align: right;\">\n",
       "      <th></th>\n",
       "      <th>ID</th>\n",
       "      <th>label</th>\n",
       "      <th>ACTION</th>\n",
       "      <th>comment</th>\n",
       "      <th>mp browse</th>\n",
       "      <th>code</th>\n",
       "      <th>uri</th>\n",
       "      <th>notation</th>\n",
       "      <th>definition</th>\n",
       "      <th>map-to</th>\n",
       "    </tr>\n",
       "  </thead>\n",
       "  <tbody>\n",
       "    <tr>\n",
       "      <th>0</th>\n",
       "      <td>2277</td>\n",
       "      <td>Swedish</td>\n",
       "      <td>map to language vocabulary</td>\n",
       "      <td>NaN</td>\n",
       "      <td>https://marketplace.sshopencloud.eu/search?f.k...</td>\n",
       "      <td>%C2%A0+Swedish</td>\n",
       "      <td>https://vocabs.sshopencloud.eu/vocabularies/ss...</td>\n",
       "      <td>NaN</td>\n",
       "      <td>NaN</td>\n",
       "      <td>NaN</td>\n",
       "    </tr>\n",
       "    <tr>\n",
       "      <th>1</th>\n",
       "      <td>15</td>\n",
       "      <td>...)</td>\n",
       "      <td>delete</td>\n",
       "      <td>NaN</td>\n",
       "      <td>https://marketplace.sshopencloud.eu/search?f.k...</td>\n",
       "      <td>...%29</td>\n",
       "      <td>https://vocabs.sshopencloud.eu/vocabularies/ss...</td>\n",
       "      <td>NaN</td>\n",
       "      <td>NaN</td>\n",
       "      <td>NaN</td>\n",
       "    </tr>\n",
       "    <tr>\n",
       "      <th>2</th>\n",
       "      <td>16</td>\n",
       "      <td>.NET</td>\n",
       "      <td>move to tools/services</td>\n",
       "      <td>NaN</td>\n",
       "      <td>https://marketplace.sshopencloud.eu/search?f.k...</td>\n",
       "      <td>.NET</td>\n",
       "      <td>https://vocabs.sshopencloud.eu/vocabularies/ss...</td>\n",
       "      <td>.NET</td>\n",
       "      <td>NaN</td>\n",
       "      <td>NaN</td>\n",
       "    </tr>\n",
       "    <tr>\n",
       "      <th>3</th>\n",
       "      <td>11</td>\n",
       "      <td>(Meta)data</td>\n",
       "      <td>keep it in keyword vocab</td>\n",
       "      <td>NaN</td>\n",
       "      <td>https://marketplace.sshopencloud.eu/search?f.k...</td>\n",
       "      <td>open_parenthesismetaclose_parenthesisdata</td>\n",
       "      <td>https://vocabs.sshopencloud.eu/vocabularies/ss...</td>\n",
       "      <td>NaN</td>\n",
       "      <td>NaN</td>\n",
       "      <td>NaN</td>\n",
       "    </tr>\n",
       "    <tr>\n",
       "      <th>4</th>\n",
       "      <td>12</td>\n",
       "      <td>(Quantitative) survey research</td>\n",
       "      <td>keep it in keyword vocab</td>\n",
       "      <td>NaN</td>\n",
       "      <td>https://marketplace.sshopencloud.eu/search?f.k...</td>\n",
       "      <td>open_parenthesisquantitativeclose_parenthesis_...</td>\n",
       "      <td>https://vocabs.sshopencloud.eu/vocabularies/ss...</td>\n",
       "      <td>NaN</td>\n",
       "      <td>NaN</td>\n",
       "      <td>NaN</td>\n",
       "    </tr>\n",
       "    <tr>\n",
       "      <th>...</th>\n",
       "      <td>...</td>\n",
       "      <td>...</td>\n",
       "      <td>...</td>\n",
       "      <td>...</td>\n",
       "      <td>...</td>\n",
       "      <td>...</td>\n",
       "      <td>...</td>\n",
       "      <td>...</td>\n",
       "      <td>...</td>\n",
       "      <td>...</td>\n",
       "    </tr>\n",
       "    <tr>\n",
       "      <th>2272</th>\n",
       "      <td>2273</td>\n",
       "      <td>youtube</td>\n",
       "      <td>NaN</td>\n",
       "      <td>NaN</td>\n",
       "      <td>https://marketplace.sshopencloud.eu/search?f.k...</td>\n",
       "      <td>youtube</td>\n",
       "      <td>https://vocabs.sshopencloud.eu/vocabularies/ss...</td>\n",
       "      <td>NaN</td>\n",
       "      <td>NaN</td>\n",
       "      <td>NaN</td>\n",
       "    </tr>\n",
       "    <tr>\n",
       "      <th>2273</th>\n",
       "      <td>667</td>\n",
       "      <td>Zeta</td>\n",
       "      <td>NaN</td>\n",
       "      <td>NaN</td>\n",
       "      <td>https://marketplace.sshopencloud.eu/search?f.k...</td>\n",
       "      <td>Zeta</td>\n",
       "      <td>https://vocabs.sshopencloud.eu/vocabularies/ss...</td>\n",
       "      <td>Zeta</td>\n",
       "      <td>NaN</td>\n",
       "      <td>NaN</td>\n",
       "    </tr>\n",
       "    <tr>\n",
       "      <th>2274</th>\n",
       "      <td>2274</td>\n",
       "      <td>zip</td>\n",
       "      <td>NaN</td>\n",
       "      <td>NaN</td>\n",
       "      <td>https://marketplace.sshopencloud.eu/search?f.k...</td>\n",
       "      <td>zip</td>\n",
       "      <td>https://vocabs.sshopencloud.eu/vocabularies/ss...</td>\n",
       "      <td>NaN</td>\n",
       "      <td>NaN</td>\n",
       "      <td>NaN</td>\n",
       "    </tr>\n",
       "    <tr>\n",
       "      <th>2275</th>\n",
       "      <td>2275</td>\n",
       "      <td>zooming</td>\n",
       "      <td>NaN</td>\n",
       "      <td>NaN</td>\n",
       "      <td>https://marketplace.sshopencloud.eu/search?f.k...</td>\n",
       "      <td>zooming</td>\n",
       "      <td>https://vocabs.sshopencloud.eu/vocabularies/ss...</td>\n",
       "      <td>zooming</td>\n",
       "      <td>NaN</td>\n",
       "      <td>NaN</td>\n",
       "    </tr>\n",
       "    <tr>\n",
       "      <th>2276</th>\n",
       "      <td>2276</td>\n",
       "      <td>zotero</td>\n",
       "      <td>NaN</td>\n",
       "      <td>NaN</td>\n",
       "      <td>https://marketplace.sshopencloud.eu/search?f.k...</td>\n",
       "      <td>zotero</td>\n",
       "      <td>https://vocabs.sshopencloud.eu/vocabularies/ss...</td>\n",
       "      <td>zotero</td>\n",
       "      <td>NaN</td>\n",
       "      <td>NaN</td>\n",
       "    </tr>\n",
       "  </tbody>\n",
       "</table>\n",
       "<p>2277 rows × 10 columns</p>\n",
       "</div>"
      ],
      "text/plain": [
       "        ID                           label                      ACTION  \\\n",
       "0     2277                         Swedish  map to language vocabulary   \n",
       "1       15                            ...)                      delete   \n",
       "2       16                            .NET      move to tools/services   \n",
       "3       11                      (Meta)data    keep it in keyword vocab   \n",
       "4       12  (Quantitative) survey research    keep it in keyword vocab   \n",
       "...    ...                             ...                         ...   \n",
       "2272  2273                         youtube                         NaN   \n",
       "2273   667                            Zeta                         NaN   \n",
       "2274  2274                             zip                         NaN   \n",
       "2275  2275                         zooming                         NaN   \n",
       "2276  2276                          zotero                         NaN   \n",
       "\n",
       "     comment                                          mp browse  \\\n",
       "0        NaN  https://marketplace.sshopencloud.eu/search?f.k...   \n",
       "1        NaN  https://marketplace.sshopencloud.eu/search?f.k...   \n",
       "2        NaN  https://marketplace.sshopencloud.eu/search?f.k...   \n",
       "3        NaN  https://marketplace.sshopencloud.eu/search?f.k...   \n",
       "4        NaN  https://marketplace.sshopencloud.eu/search?f.k...   \n",
       "...      ...                                                ...   \n",
       "2272     NaN  https://marketplace.sshopencloud.eu/search?f.k...   \n",
       "2273     NaN  https://marketplace.sshopencloud.eu/search?f.k...   \n",
       "2274     NaN  https://marketplace.sshopencloud.eu/search?f.k...   \n",
       "2275     NaN  https://marketplace.sshopencloud.eu/search?f.k...   \n",
       "2276     NaN  https://marketplace.sshopencloud.eu/search?f.k...   \n",
       "\n",
       "                                                   code  \\\n",
       "0                                        %C2%A0+Swedish   \n",
       "1                                                ...%29   \n",
       "2                                                  .NET   \n",
       "3             open_parenthesismetaclose_parenthesisdata   \n",
       "4     open_parenthesisquantitativeclose_parenthesis_...   \n",
       "...                                                 ...   \n",
       "2272                                            youtube   \n",
       "2273                                               Zeta   \n",
       "2274                                                zip   \n",
       "2275                                            zooming   \n",
       "2276                                             zotero   \n",
       "\n",
       "                                                    uri notation definition  \\\n",
       "0     https://vocabs.sshopencloud.eu/vocabularies/ss...      NaN        NaN   \n",
       "1     https://vocabs.sshopencloud.eu/vocabularies/ss...      NaN        NaN   \n",
       "2     https://vocabs.sshopencloud.eu/vocabularies/ss...     .NET        NaN   \n",
       "3     https://vocabs.sshopencloud.eu/vocabularies/ss...      NaN        NaN   \n",
       "4     https://vocabs.sshopencloud.eu/vocabularies/ss...      NaN        NaN   \n",
       "...                                                 ...      ...        ...   \n",
       "2272  https://vocabs.sshopencloud.eu/vocabularies/ss...      NaN        NaN   \n",
       "2273  https://vocabs.sshopencloud.eu/vocabularies/ss...     Zeta        NaN   \n",
       "2274  https://vocabs.sshopencloud.eu/vocabularies/ss...      NaN        NaN   \n",
       "2275  https://vocabs.sshopencloud.eu/vocabularies/ss...  zooming        NaN   \n",
       "2276  https://vocabs.sshopencloud.eu/vocabularies/ss...   zotero        NaN   \n",
       "\n",
       "     map-to  \n",
       "0       NaN  \n",
       "1       NaN  \n",
       "2       NaN  \n",
       "3       NaN  \n",
       "4       NaN  \n",
       "...     ...  \n",
       "2272    NaN  \n",
       "2273    NaN  \n",
       "2274    NaN  \n",
       "2275    NaN  \n",
       "2276    NaN  \n",
       "\n",
       "[2277 rows x 10 columns]"
      ]
     },
     "metadata": {},
     "output_type": "display_data"
    }
   ],
   "source": [
    "#Here is a csv with all MP keywords. First step is to import that list as a dataframe\n",
    "df = pd.read_csv(\"MP Keywords.csv\")\n",
    "display(df)"
   ]
  },
  {
   "cell_type": "markdown",
   "id": "3b61a527-51bd-4483-bc8b-96b4258eca4d",
   "metadata": {},
   "source": [
    "## Step 2: Remove all non-words"
   ]
  },
  {
   "cell_type": "code",
   "execution_count": 51,
   "id": "eb3f93b5-0123-4782-95fc-dac08d7ff573",
   "metadata": {},
   "outputs": [],
   "source": [
    "def has_letter(ID):\n",
    "    target_row = df.loc[df['ID'] == ID]\n",
    "    label = target_row['label'].item()\n",
    "    if any(char.isalpha() for char in str(label)) == False:\n",
    "        print (\"Delete for label \"+str(label))\n",
    "        target_row.loc[:, ('ACTION')] = \"delete\""
   ]
  },
  {
   "cell_type": "code",
   "execution_count": 52,
   "id": "aaae91d1-cbc3-4360-96cd-3a45443d3884",
   "metadata": {},
   "outputs": [
    {
     "name": "stdout",
     "output_type": "stream",
     "text": [
      "Delete for label ...)\n"
     ]
    },
    {
     "data": {
      "text/plain": [
       "0       None\n",
       "1       None\n",
       "2       None\n",
       "3       None\n",
       "4       None\n",
       "        ... \n",
       "2272    None\n",
       "2273    None\n",
       "2274    None\n",
       "2275    None\n",
       "2276    None\n",
       "Name: ID, Length: 2277, dtype: object"
      ]
     },
     "execution_count": 52,
     "metadata": {},
     "output_type": "execute_result"
    }
   ],
   "source": [
    "df['ID'].apply(has_letter)"
   ]
  },
  {
   "cell_type": "markdown",
   "id": "7605cec9-fab1-4093-832c-b6d9a4862c0d",
   "metadata": {},
   "source": [
    "## Step 3: remove stop words"
   ]
  },
  {
   "cell_type": "code",
   "execution_count": 60,
   "id": "bfb5a0b8-4ea9-423b-8474-d101ab1661dd",
   "metadata": {},
   "outputs": [],
   "source": [
    "def remove_stop_words(ID):\n",
    "    target_row = df.loc[df['ID'] == ID]\n",
    "    label = target_row['label'].item()\n",
    "    stop_words = [\"none\", \"yes\", \"no\"] #expand\n",
    "    if str(label).lower() in stop_words:\n",
    "        print (\"Delete for label \"+str(label))\n",
    "        target_row.loc[:, ('ACTION')] = \"delete\""
   ]
  },
  {
   "cell_type": "code",
   "execution_count": 61,
   "id": "ba90fe39-dc00-44e0-b2e0-c515a786ade3",
   "metadata": {},
   "outputs": [
    {
     "name": "stdout",
     "output_type": "stream",
     "text": [
      "Delete for label none\n",
      "Delete for label yes\n"
     ]
    },
    {
     "data": {
      "text/plain": [
       "0       None\n",
       "1       None\n",
       "2       None\n",
       "3       None\n",
       "4       None\n",
       "        ... \n",
       "2272    None\n",
       "2273    None\n",
       "2274    None\n",
       "2275    None\n",
       "2276    None\n",
       "Name: ID, Length: 2277, dtype: object"
      ]
     },
     "execution_count": 61,
     "metadata": {},
     "output_type": "execute_result"
    }
   ],
   "source": [
    "df['ID'].apply(remove_stop_words)"
   ]
  },
  {
   "cell_type": "markdown",
   "id": "5a0d24d9-8f15-4d9a-b123-a36b84919022",
   "metadata": {},
   "source": [
    "## Step 4: Check spelling"
   ]
  },
  {
   "cell_type": "code",
   "execution_count": 110,
   "id": "b7845ef8-9c8a-44af-8e59-a9b82ad76f47",
   "metadata": {},
   "outputs": [],
   "source": [
    "def check_spelling(ID): #pretty much unusable at the moment -> greek corrected to green -.-\n",
    "    target_row = df.loc[df['ID'] == ID]\n",
    "    label = target_row['label'].item()\n",
    "    word_list = list(str(label).split(\" \")) #we need to convert the string to a list and pass as list items\n",
    "    #word_list = ['archealogical', 'context'] #test\n",
    "    misspelled = spell.unknown(word_list)\n",
    "    for i, word in enumerate(misspelled):\n",
    "        # Get the one `most likely` answer\n",
    "        corrected_word = spell.correction(word)\n",
    "        print(f\"Corrected {word} to {corrected_word}\")\n",
    "        word_list[i] = corrected_word\n",
    "\n",
    "    print(\"Updated Keyword\", word_list)"
   ]
  },
  {
   "cell_type": "code",
   "execution_count": 111,
   "id": "edc44f53-9a11-48fd-95d5-18f47db0f3f7",
   "metadata": {},
   "outputs": [
    {
     "name": "stdout",
     "output_type": "stream",
     "text": [
      "Updated Keyword ['archaeological', 'context']\n"
     ]
    }
   ],
   "source": [
    "check_spelling(745)"
   ]
  },
  {
   "cell_type": "code",
   "execution_count": null,
   "id": "bbb90117-d32a-427e-8d81-3bb305ede5ec",
   "metadata": {},
   "outputs": [],
   "source": [
    "df['ID'].apply(check_spelling)"
   ]
  },
  {
   "cell_type": "markdown",
   "id": "d3c27f9f-7fbf-405d-b5f7-91614bc7bbe4",
   "metadata": {},
   "source": [
    "## Step 5: Check if the keyword is found in a vocab"
   ]
  },
  {
   "cell_type": "code",
   "execution_count": 6,
   "id": "db47082c-1263-441a-bd93-cbe1ab77ac9b",
   "metadata": {},
   "outputs": [
    {
     "data": {
      "application/json": [
       {
        "candidate": false,
        "code": "602001",
        "label": "African studies",
        "notation": "602001",
        "types": [
         {
          "code": "discipline"
         }
        ],
        "uri": "https://vocabs.acdh.oeaw.ac.at/oefosdisciplines/602001",
        "vocabulary": {
         "code": "discipline"
        }
       },
       {
        "candidate": false,
        "code": "cf",
        "label": "Central African Republic (the)",
        "notation": "",
        "types": [
         {
          "code": "geographical-availability"
         }
        ],
        "uri": "https://vocabs.sshopencloud.eu/vocabularies/eosc-geographical-availability/cf",
        "vocabulary": {
         "code": "eosc-geographical-availability"
        }
       },
       {
        "candidate": false,
        "code": "211918",
        "label": "Technical history",
        "notation": "211918",
        "types": [
         {
          "code": "discipline"
         }
        ],
        "uri": "https://vocabs.acdh.oeaw.ac.at/oefosdisciplines/211918",
        "vocabulary": {
         "code": "discipline"
        }
       },
       {
        "candidate": false,
        "code": "201131",
        "label": "Building history",
        "notation": "201131",
        "types": [
         {
          "code": "discipline"
         }
        ],
        "uri": "https://vocabs.acdh.oeaw.ac.at/oefosdisciplines/201131",
        "vocabulary": {
         "code": "discipline"
        }
       },
       {
        "candidate": false,
        "code": "502049",
        "label": "Economic history",
        "notation": "502049",
        "types": [
         {
          "code": "discipline"
         }
        ],
        "uri": "https://vocabs.acdh.oeaw.ac.at/oefosdisciplines/502049",
        "vocabulary": {
         "code": "discipline"
        }
       },
       {
        "candidate": false,
        "code": "505014",
        "label": "Legal history",
        "notation": "505014",
        "types": [
         {
          "code": "discipline"
         }
        ],
        "uri": "https://vocabs.acdh.oeaw.ac.at/oefosdisciplines/505014",
        "vocabulary": {
         "code": "discipline"
        }
       },
       {
        "candidate": false,
        "code": "504026",
        "label": "Social history",
        "notation": "504026",
        "types": [
         {
          "code": "discipline"
         }
        ],
        "uri": "https://vocabs.acdh.oeaw.ac.at/oefosdisciplines/504026",
        "vocabulary": {
         "code": "discipline"
        }
       },
       {
        "candidate": false,
        "code": "507021",
        "label": "Urban history",
        "notation": "507021",
        "types": [
         {
          "code": "discipline"
         }
        ],
        "uri": "https://vocabs.acdh.oeaw.ac.at/oefosdisciplines/507021",
        "vocabulary": {
         "code": "discipline"
        }
       },
       {
        "candidate": false,
        "code": "506011",
        "label": "Political history",
        "notation": "506011",
        "types": [
         {
          "code": "discipline"
         }
        ],
        "uri": "https://vocabs.acdh.oeaw.ac.at/oefosdisciplines/506011",
        "vocabulary": {
         "code": "discipline"
        }
       },
       {
        "candidate": false,
        "code": "508010",
        "label": "Media history",
        "notation": "508010",
        "types": [
         {
          "code": "discipline"
         }
        ],
        "uri": "https://vocabs.acdh.oeaw.ac.at/oefosdisciplines/508010",
        "vocabulary": {
         "code": "discipline"
        }
       },
       {
        "candidate": false,
        "code": "601",
        "label": "History, Archaeology",
        "notation": "601",
        "types": [
         {
          "code": "discipline"
         }
        ],
        "uri": "https://vocabs.acdh.oeaw.ac.at/oefosdisciplines/601",
        "vocabulary": {
         "code": "discipline"
        }
       },
       {
        "candidate": false,
        "code": "6010",
        "label": "History, Archaeology",
        "notation": "6010",
        "types": [
         {
          "code": "discipline"
         }
        ],
        "uri": "https://vocabs.acdh.oeaw.ac.at/oefosdisciplines/6010",
        "vocabulary": {
         "code": "discipline"
        }
       },
       {
        "candidate": false,
        "code": "601016",
        "label": "Austrian history",
        "notation": "601016",
        "types": [
         {
          "code": "discipline"
         }
        ],
        "uri": "https://vocabs.acdh.oeaw.ac.at/oefosdisciplines/601016",
        "vocabulary": {
         "code": "discipline"
        }
       },
       {
        "candidate": false,
        "code": "601014",
        "label": "Modern history",
        "notation": "601014",
        "types": [
         {
          "code": "discipline"
         }
        ],
        "uri": "https://vocabs.acdh.oeaw.ac.at/oefosdisciplines/601014",
        "vocabulary": {
         "code": "discipline"
        }
       },
       {
        "candidate": false,
        "code": "601012",
        "label": "Medieval history",
        "notation": "601012",
        "types": [
         {
          "code": "discipline"
         }
        ],
        "uri": "https://vocabs.acdh.oeaw.ac.at/oefosdisciplines/601012",
        "vocabulary": {
         "code": "discipline"
        }
       }
      ],
      "text/plain": [
       "<IPython.core.display.JSON object>"
      ]
     },
     "execution_count": 6,
     "metadata": {
      "application/json": {
       "expanded": false,
       "root": "root"
      }
     },
     "output_type": "execute_result"
    }
   ],
   "source": [
    "keyword  = \"african-history\"\n",
    "api_url = \"https://marketplace-api.sshopencloud.eu/api/concept-search?q=\"+str(keyword)+\"&f=f.candiate%3Dfalse&advanced=true&order=score\"\n",
    "response = requests.get(api_url)\n",
    "#JSON(response.json()) #this is so nice, remember to always use this!!\n",
    "# now we always find the keyword in the keywords vocab, so we need to filter the list\n",
    "data = response.json()\n",
    "\n",
    "# Create a new list excluding items with vocabulary code 'sshoc-keyword'\n",
    "filtered_concepts = [i for i in data[\"concepts\"] if i['vocabulary']['code'] != 'sshoc-keyword']\n",
    "\n",
    "# assign back to data['concepts']\n",
    "data[\"concepts\"] = filtered_concepts\n",
    "JSON(data[\"concepts\"]) #so nice, always use this"
   ]
  },
  {
   "cell_type": "code",
   "execution_count": null,
   "id": "be0aea08-1288-4cf0-804c-2d660d2f9968",
   "metadata": {},
   "outputs": [],
   "source": []
  }
 ],
 "metadata": {
  "kernelspec": {
   "display_name": "Python 3 (ipykernel)",
   "language": "python",
   "name": "python3"
  },
  "language_info": {
   "codemirror_mode": {
    "name": "ipython",
    "version": 3
   },
   "file_extension": ".py",
   "mimetype": "text/x-python",
   "name": "python",
   "nbconvert_exporter": "python",
   "pygments_lexer": "ipython3",
   "version": "3.10.12"
  }
 },
 "nbformat": 4,
 "nbformat_minor": 5
}
